{
 "cells": [
  {
   "cell_type": "markdown",
   "metadata": {},
   "source": [
    "### Import Library"
   ]
  },
  {
   "cell_type": "code",
   "execution_count": null,
   "metadata": {},
   "outputs": [],
   "source": [
    "from tensorflow.keras.models import Sequential\n",
    "from tensorflow.keras.layers import LSTM, Dense, Embedding\n",
    "from tensorflow.keras.preprocessing.sequence import pad_sequences\n",
    "from tensorflow.keras.utils import to_categorical\n",
    "import numpy as np\n",
    "import pandas as pd\n",
    "from sklearn.model_selection import train_test_split"
   ]
  },
  {
   "cell_type": "markdown",
   "metadata": {},
   "source": [
    "### LSTM Model"
   ]
  },
  {
   "cell_type": "code",
   "execution_count": null,
   "metadata": {},
   "outputs": [],
   "source": [
    "def LSTM_model():\n",
    "    max_len = 5\n",
    "    model = Sequential()\n",
    "    model.add(Embedding(input_dim=365, output_dim=8, input_length=max_len))\n",
    "    model.add(LSTM(64, return_sequences=True))\n",
    "    model.add(LSTM(32))\n",
    "    model.add(Dense(365, activation='softmax'))\n",
    "    model.compile(optimizer='adam', loss='categorical_crossentropy', metrics=['accuracy'])\n",
    "    return model"
   ]
  },
  {
   "cell_type": "markdown",
   "metadata": {},
   "source": [
    "### Train the model"
   ]
  },
  {
   "cell_type": "code",
   "execution_count": null,
   "metadata": {},
   "outputs": [],
   "source": [
    "def model(train_df, test_data):\n",
    "    # Prepare training data\n",
    "    X_train = train_df.iloc[:,:-1].values\n",
    "    y_train = train_df.iloc[:,-1].values\n",
    "\n",
    "    max_len = len(X_train)\n",
    "    X_train_padded = pad_sequences(X_train, maxlen=max_len, padding='pre', dtype='float32')\n",
    "    y_train_cat = to_categorical(y_train, num_classes=365)\n",
    "\n",
    "    # Create and train the model\n",
    "    model = LSTM_model()\n",
    "    model.fit(X_train_padded, y_train_cat, epochs=5, batch_size=1, validation_split=0.2)\n",
    "\n",
    "    # Prepare test data\n",
    "    X_test = np.array(test_data)\n",
    "    X_test_padded = pad_sequences(X_test, maxlen=max_len, padding='pre', dtype='float32')\n",
    "\n",
    "    # Make predictions\n",
    "    prediction = model.predict(X_test_padded)\n",
    "    return prediction, model"
   ]
  },
  {
   "cell_type": "markdown",
   "metadata": {},
   "source": [
    "### Test the model"
   ]
  },
  {
   "cell_type": "code",
   "execution_count": null,
   "metadata": {},
   "outputs": [],
   "source": [
    "df = pd.read_csv('./Stepping_Right_DataFrame_with_Y_Column.csv')\n",
    "train, test = train_test_split(df, train_size=0.7)\n",
    "prediction, model = model(train, test)"
   ]
  }
 ],
 "metadata": {
  "kernelspec": {
   "display_name": "base",
   "language": "python",
   "name": "python3"
  },
  "language_info": {
   "name": "python",
   "version": "3.12.4"
  }
 },
 "nbformat": 4,
 "nbformat_minor": 2
}
